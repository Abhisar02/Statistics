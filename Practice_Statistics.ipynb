{
 "cells": [
  {
   "cell_type": "markdown",
   "metadata": {},
   "source": [
    "\n",
    "### Calculating the Mean, Median, and Mode using numpy & scipy"
   ]
  },
  {
   "cell_type": "code",
   "execution_count": null,
   "metadata": {},
   "outputs": [],
   "source": [
    "### Calculating the mean, median, and mode\n",
    "import numpy as np\n",
    "from scipy import stats\n",
    "\n",
    "n = int(input())\n",
    "arr = list(map(int, input().split()))\n",
    "## Mean\n",
    "print(np.mean(arr))\n",
    "\n",
    "## Median\n",
    "print(np.median(arr))\n",
    "\n",
    "## Mode\n",
    "print(stats.mode(arr))"
   ]
  },
  {
   "cell_type": "markdown",
   "metadata": {},
   "source": [
    "### Calculating the Mean"
   ]
  },
  {
   "cell_type": "code",
   "execution_count": null,
   "metadata": {},
   "outputs": [],
   "source": [
    "## MEAN/AVERAGE Without using library\n",
    "n = int(input())\n",
    "arr = list(map(int, input().split()))\n",
    "\n",
    "get_sum = sum(arr) \n",
    "mean = get_sum / n \n",
    "  \n",
    "print(\"Mean / Average is: \" + str(mean))"
   ]
  },
  {
   "cell_type": "markdown",
   "metadata": {},
   "source": [
    "### Calculating the Median"
   ]
  },
  {
   "cell_type": "code",
   "execution_count": null,
   "metadata": {},
   "outputs": [],
   "source": [
    "### MEDIAN Without using library\n",
    "  \n",
    "# list of elements to calculate median \n",
    "n = int(input())\n",
    "arr = list(map(int, input().split()))\n",
    "arr.sort() \n",
    "  \n",
    "if n % 2 == 0: \n",
    "    median1 = arr[n//2] \n",
    "    median2 = arr[n//2 - 1] \n",
    "    median = (median1 + median2)/2\n",
    "else: \n",
    "    median = arr[n//2] \n",
    "print(\"Median is: \" + str(median)) "
   ]
  },
  {
   "cell_type": "markdown",
   "metadata": {},
   "source": [
    "### Calculating the Weighted Mean"
   ]
  },
  {
   "cell_type": "code",
   "execution_count": null,
   "metadata": {},
   "outputs": [],
   "source": [
    "### Weighted Mean:\n",
    "\n",
    "n=int(input())\n",
    "x=list(map(int,input().split()))\n",
    "w=list(map(int,input().split()))\n",
    "sum_X = sum([a*b for a,b in zip(x,w)])\n",
    "print(round((sum_X/sum(w)),1))"
   ]
  },
  {
   "cell_type": "markdown",
   "metadata": {},
   "source": [
    "### Calculating the Standard Deviation"
   ]
  },
  {
   "cell_type": "code",
   "execution_count": null,
   "metadata": {},
   "outputs": [],
   "source": [
    "## Standard Deviation\n",
    "\n",
    "n=int(input())\n",
    "arr=list(map(int,input().split()))\n",
    "mean=sum(arr)/n\n",
    "variance = sum([((x - mean) ** 2) for x in arr]) / n\n",
    "stddev = variance ** 0.5\n",
    "print (stddev)"
   ]
  },
  {
   "cell_type": "code",
   "execution_count": null,
   "metadata": {},
   "outputs": [],
   "source": [
    "## Standard Deviation using library\n",
    "\n",
    "import statistics as stats\n",
    "n=int(input())\n",
    "arr=list(map(int,input().split()))\n",
    "print(\"Standard Deviation of sample is: \" + str(stats.stdev(arr)))"
   ]
  },
  {
   "cell_type": "markdown",
   "metadata": {},
   "source": [
    "### Calculating Interquartile Range"
   ]
  },
  {
   "cell_type": "code",
   "execution_count": null,
   "metadata": {},
   "outputs": [],
   "source": [
    "import numpy as np\n",
    "n = int(input())\n",
    "data = list(map(int, input().split()))\n",
    "freq = list(map(int, input().split()))\n",
    "\n",
    "s = []\n",
    "for i in range(n):\n",
    "    s += [data[i]] * freq[i]\n",
    "N = sum(freq) \n",
    "Qdelta=int(np.median(s[(N+1)//2:]))-int(np.median(s[:N//2]))\n",
    "print (round(float(Qdelta), 1))"
   ]
  },
  {
   "cell_type": "markdown",
   "metadata": {},
   "source": [
    "### Binomial Distribution\n",
    "\n"
   ]
  },
  {
   "cell_type": "code",
   "execution_count": null,
   "metadata": {},
   "outputs": [],
   "source": [
    "import math\n",
    "\n",
    "def bi_dist(x, n, p):\n",
    "    b = (math.factorial(n)/(math.factorial(x)*math.factorial(n-x)))*(p**x)*((1-p)**(n-x))\n",
    "    return(b)\n",
    "\n",
    "b=0\n",
    "p=1.09/2.09\n",
    "n=6\n",
    "for i in range(3,7): ## range of x ending \n",
    "    b += bi_dist(i, n, p)\n",
    "print (b)\n"
   ]
  },
  {
   "cell_type": "code",
   "execution_count": null,
   "metadata": {},
   "outputs": [],
   "source": []
  }
 ],
 "metadata": {
  "kernelspec": {
   "display_name": "Python 3",
   "language": "python",
   "name": "python3"
  },
  "language_info": {
   "codemirror_mode": {
    "name": "ipython",
    "version": 3
   },
   "file_extension": ".py",
   "mimetype": "text/x-python",
   "name": "python",
   "nbconvert_exporter": "python",
   "pygments_lexer": "ipython3",
   "version": "3.7.3"
  },
  "pycharm": {
   "stem_cell": {
    "cell_type": "raw",
    "source": [],
    "metadata": {
     "collapsed": false
    }
   }
  }
 },
 "nbformat": 4,
 "nbformat_minor": 4
}